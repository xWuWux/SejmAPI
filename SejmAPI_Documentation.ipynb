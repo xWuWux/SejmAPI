{
  "nbformat": 4,
  "nbformat_minor": 0,
  "metadata": {
    "colab": {
      "provenance": []
    },
    "kernelspec": {
      "name": "python3",
      "display_name": "Python 3"
    },
    "language_info": {
      "name": "python"
    }
  },
  "cells": [
    {
      "cell_type": "markdown",
      "source": [
        "**Introduction**\n",
        "\n",
        "SejmAPI is a Python module that provides a simple interface to the Sejm API, which is a RESTful API that provides access to data about the Polish Parliament. The Sejm API is maintained by the Polish Parliament and is available at the following URL:https://api.sejm.gov.pl/\n",
        "\n",
        "**Dependencies**\n",
        "\n",
        "The SejmAPI project requires the following dependencies:\n",
        "\n",
        "-Python 3.6 or higher\n",
        "\n",
        "-requests library\n",
        "\n",
        "-json library\n",
        "\n",
        "\n",
        "**Usage**\n",
        "\n",
        "To use the SejmAPI project, you will need to first create an instance of the SejmApi class. This class takes a single argument, which is the term number of the Sejm that you want to access. The term number can be found at the following URL: https://api.sejm.gov.pl/sejm.html\n",
        "\n",
        "Once you have created an instance of the SejmApi class, you can use the following methods to access data from the Sejm API:\n",
        "`get_all_MP()`: This method returns a list of all MPs in the current term."
      ],
      "metadata": {
        "id": "IoF6YAPUUuY4"
      }
    },
    {
      "cell_type": "code",
      "source": [
        "import requests\n",
        "import json\n",
        "\n",
        "from sejmapi import SejmApi\n",
        "\n",
        "sejm = SejmApi(term=9)\n",
        "\n",
        "mps = sejm.get_all_MP()\n",
        "\n",
        "print(mps)\n"
      ],
      "metadata": {
        "id": "_o4pjMhXVMmr"
      },
      "execution_count": null,
      "outputs": []
    },
    {
      "cell_type": "markdown",
      "source": [
        "This code will print a list of all MPs in the current term. Each MP in the list will be a dictionary with the following keys:\n",
        "\n",
        "-legID: The MP's legID number\n",
        "\n",
        "-name: The MP's name\n",
        "\n",
        "-surname: The MP's surname\n",
        "\n",
        "-party: The MP's political party\n",
        "\n",
        "-term: The MP's term number\n",
        "\n",
        "`get_MP_info():` This method returns information about a specific MP. The MP is identified by their legID number."
      ],
      "metadata": {
        "id": "99trbphmVQ21"
      }
    },
    {
      "cell_type": "code",
      "source": [
        "import requests\n",
        "import json\n",
        "\n",
        "from sejmapi import SejmApi\n",
        "\n",
        "sejm = SejmApi(term=9)\n",
        "\n",
        "mp = sejm.get_MP_info(legID=1)\n",
        "\n",
        "print(mp)\n"
      ],
      "metadata": {
        "id": "tPiutPEHUwj-"
      },
      "execution_count": null,
      "outputs": []
    },
    {
      "cell_type": "markdown",
      "source": [
        "This code will print information about the MP with the legID number 1.\n",
        "\n",
        "`getPhoto():` This method returns a URL to the photo of a specific MP. The MP is identified by their legID number."
      ],
      "metadata": {
        "id": "Hbp9Pu-UVsnG"
      }
    },
    {
      "cell_type": "code",
      "source": [
        "import requests\n",
        "import json\n",
        "\n",
        "from sejmapi import SejmApi\n",
        "\n",
        "sejm = SejmApi(term=9)\n",
        "\n",
        "photo = sejm.getPhoto(legID=1)\n",
        "\n",
        "print(photo)"
      ],
      "metadata": {
        "id": "EffnTv6tWJD4"
      },
      "execution_count": null,
      "outputs": []
    },
    {
      "cell_type": "markdown",
      "source": [
        "This code will print the URL to the photo of the MP with the legID number 1.\n",
        "\n",
        "`getClubs():` This method returns a list of all political clubs in the current term."
      ],
      "metadata": {
        "id": "qPOqPoE0V2zW"
      }
    },
    {
      "cell_type": "code",
      "source": [
        "import requests\n",
        "import json\n",
        "\n",
        "from sejmapi import SejmApi\n",
        "\n",
        "sejm = SejmApi(term=9)\n",
        "\n",
        "clubs = sejm.getClubs()\n",
        "\n",
        "print(clubs)\n"
      ],
      "metadata": {
        "id": "T1ru_PcGV8L1"
      },
      "execution_count": null,
      "outputs": []
    },
    {
      "cell_type": "markdown",
      "source": [
        "This code will print a list of all political clubs in the current term. Each club in the list will be a dictionary with the following keys:\n",
        "\n",
        "id: The club's ID number\n",
        "\n",
        "name: The club's name\n",
        "\n",
        "abbreviation: The club's abbreviation\n",
        "\n",
        "seats: The number of seats that the club holds in the Sejm\n",
        "\n",
        "`getClub_info()`: This method returns information about a specific political club. The club is identified by its ID number."
      ],
      "metadata": {
        "id": "k8-BCjeXWz4b"
      }
    },
    {
      "cell_type": "code",
      "source": [
        "import requests\n",
        "import json\n",
        "\n",
        "from sejmapi import SejmApi\n",
        "\n",
        "sejm = SejmApi(term=9)\n",
        "\n",
        "club = sejm.getClub_info(id=1)\n",
        "\n",
        "print(club)\n"
      ],
      "metadata": {
        "id": "iLP2KoaoYung"
      },
      "execution_count": null,
      "outputs": []
    },
    {
      "cell_type": "markdown",
      "source": [
        "This code will print information about the political club with the ID number 1.\n",
        "\n",
        "`getClublogo()`: This method returns a URL to the logo of a specific political club. The club is identified by its ID number."
      ],
      "metadata": {
        "id": "gJeIiQPGYwiS"
      }
    },
    {
      "cell_type": "code",
      "source": [
        "import requests"
      ],
      "metadata": {
        "id": "LiSmvbJeY3nc"
      },
      "execution_count": null,
      "outputs": []
    }
  ]
}